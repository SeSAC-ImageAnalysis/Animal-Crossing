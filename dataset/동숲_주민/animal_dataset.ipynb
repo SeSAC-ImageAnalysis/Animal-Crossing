{
  "nbformat": 4,
  "nbformat_minor": 0,
  "metadata": {
    "colab": {
      "provenance": []
    },
    "kernelspec": {
      "name": "python3",
      "display_name": "Python 3"
    },
    "language_info": {
      "name": "python"
    }
  },
  "cells": [
    {
      "cell_type": "markdown",
      "source": [
        "# 데이터셋 순서별로 정렬하기"
      ],
      "metadata": {
        "id": "lyO4AW7ghIz3"
      }
    },
    {
      "cell_type": "code",
      "source": [
        "from google.colab import drive\n",
        "drive.mount('/content/drive')"
      ],
      "metadata": {
        "colab": {
          "base_uri": "https://localhost:8080/"
        },
        "id": "eZd6433lhOI1",
        "outputId": "1465e75b-d60e-4d9f-eb77-85a37bea3f9a"
      },
      "execution_count": 1,
      "outputs": [
        {
          "output_type": "stream",
          "name": "stdout",
          "text": [
            "Mounted at /content/drive\n"
          ]
        }
      ]
    },
    {
      "cell_type": "code",
      "execution_count": 2,
      "metadata": {
        "id": "-UbO5wV8hEdo"
      },
      "outputs": [],
      "source": [
        "import os\n",
        "\n",
        "data_dir = '/content/drive/MyDrive/my_dataset'  # 데이터셋이 있는 경로\n",
        "\n",
        "# 주어진 경로에서 모든 폴더 목록을 가져옵니다.\n",
        "subfolders = [f.path for f in os.scandir(data_dir) if f.is_dir()]\n",
        "\n",
        "# 각 폴더를 순회하며 파일 이름을 정렬합니다.\n",
        "for folder in subfolders:\n",
        "    file_list = os.listdir(folder)\n",
        "    sorted_file_list = sorted(file_list)  # 파일 이름을 정렬합니다.\n",
        "\n",
        "    # 정렬된 파일 이름을 기반으로 파일을 다시 저장합니다.\n",
        "    for index, file_name in enumerate(sorted_file_list, start=1):\n",
        "        src_file_path = os.path.join(folder, file_name)\n",
        "        dst_file_name = f\"{folder.split('/')[-1]}_{index}.jpg\"  # 새로운 파일 이름 지정 (예: \"개1.jpg\")\n",
        "        dst_file_path = os.path.join(folder, dst_file_name)\n",
        "\n",
        "        os.rename(src_file_path, dst_file_path)  # 파일을 새로운 이름으로 이동 또는 복사합니다."
      ]
    }
  ]
}